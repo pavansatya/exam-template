{
 "cells": [
  {
   "cell_type": "markdown",
   "metadata": {},
   "source": [
    "# Example\n",
    "\n",
    "Use this example to ensure that you can import required libraries to take the exam.\n",
    "\n",
    "If importing any of these libraries causes an error for you, be sure to fix this before the exam period.\n"
   ]
  },
  {
   "cell_type": "code",
   "execution_count": 1,
   "metadata": {},
   "outputs": [],
   "source": [
    "import numpy as np\n",
    "import matplotlib\n",
    "import matplotlib.pyplot as plt\n",
    "import torch\n",
    "import torchvision\n",
    "import sklearn\n",
    "import pandas as pd\n",
    "import seaborn as sns\n",
    "import scipy"
   ]
  },
  {
   "cell_type": "code",
   "execution_count": 2,
   "metadata": {},
   "outputs": [
    {
     "name": "stdout",
     "output_type": "stream",
     "text": [
      "2.1.3\n",
      "3.9.2\n",
      "2.5.1+cu124\n",
      "0.20.1+cu124\n",
      "1.5.2\n",
      "2.2.3\n",
      "0.13.2\n",
      "1.14.1\n"
     ]
    }
   ],
   "source": [
    "print(np.__version__)\n",
    "print(matplotlib.__version__)\n",
    "print(torch.__version__)\n",
    "print(torchvision.__version__)\n",
    "print(sklearn.__version__)\n",
    "print(pd.__version__)\n",
    "print(sns.__version__)\n",
    "print(scipy.__version__)"
   ]
  },
  {
   "cell_type": "code",
   "execution_count": null,
   "metadata": {},
   "outputs": [],
   "source": []
  }
 ],
 "metadata": {
  "kernelspec": {
   "display_name": ".venv",
   "language": "python",
   "name": "python3"
  },
  "language_info": {
   "codemirror_mode": {
    "name": "ipython",
    "version": 3
   },
   "file_extension": ".py",
   "mimetype": "text/x-python",
   "name": "python",
   "nbconvert_exporter": "python",
   "pygments_lexer": "ipython3",
   "version": "3.12.3"
  }
 },
 "nbformat": 4,
 "nbformat_minor": 2
}
